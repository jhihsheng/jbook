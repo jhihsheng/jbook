{
 "cells": [
  {
   "cell_type": "markdown",
   "id": "bad2a4b5-a641-448c-88d7-8ca2ab768bbb",
   "metadata": {},
   "source": [
    "# Initial Tasks 研究生的初始任務\n",
    "開始研究前，你須要學習一些工具，以下是你必須完成的任務，我簡單介紹任務與關鍵字，請試著依關鍵字，查詢所需訊息，完成任務。\n",
    "\n",
    "1. **任務一：Install linux or WSL**\n",
    "\n",
    "在科學計算裡，許多計算套件與環境都必須在指令介面，在 termial 裡使用指令，因此需要安裝 linux 環境，你有以下兩項選擇:\n",
    "   - 如果你已經使用過linux，你可以直接在你的電腦安裝 linux，無論是用 dual boot 或是虛擬機，安裝Debian 或是 Ubuntu 版的 linux\n",
    "   - 如果你還不太清楚 linux ， 習慣使用 Windows ， 可選擇安裝 WSL(Windows Subsystem for Linux)，可參考 Microsoft 網站的說明。安裝時，選擇 Debian distribution。當你安裝完後，可以學習簡單的 linux 指令如 cd, cd.., \n",
    "2. **任務二：在你安裝的 Linux 裡，安裝 python**\n",
    "\n",
    "安裝 anaconda distribution 的 python\n",
    "3. **任務三：在你安裝的 Linux 裡，安裝 JupyterLab**\n",
    "\n",
    "JupyterLab 是一個用網頁為介面的程式、筆記、成果展示的整合環境，目前這個網頁也是以 Jupyter 所寫的notebook，其檔案格式為 ipynb \n",
    "\n",
    "4. **任務四：在你安裝的 Linux 裡，安裝 python 套件 Meep**\n",
    "\n",
    "Meep 是一個 FDTD 電磁學套件。以conda指令建立虛擬環境後，再安裝 meep 。建立環境指令\n",
    "```\n",
    "conda create -n env_name \n",
    "```\n",
    "\n",
    "5. **任務五：在你安裝的 Linux 裡，安裝 python 套件 Qutip**\n",
    "\n",
    "Qutip 是一個解量子動力學。以conda指令建立虛擬環境後，再安裝 Qutip\n",
    "\n",
    " "
   ]
  },
  {
   "cell_type": "code",
   "execution_count": null,
   "id": "264524f5-8ace-460d-845c-75d2d8b1fdcb",
   "metadata": {},
   "outputs": [],
   "source": []
  }
 ],
 "metadata": {
  "kernelspec": {
   "display_name": "Python 3 (ipykernel)",
   "language": "python",
   "name": "python3"
  },
  "language_info": {
   "codemirror_mode": {
    "name": "ipython",
    "version": 3
   },
   "file_extension": ".py",
   "mimetype": "text/x-python",
   "name": "python",
   "nbconvert_exporter": "python",
   "pygments_lexer": "ipython3",
   "version": "3.8.13"
  }
 },
 "nbformat": 4,
 "nbformat_minor": 5
}