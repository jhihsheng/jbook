{
 "cells": [
  {
   "cell_type": "markdown",
   "id": "fbe03f61",
   "metadata": {},
   "source": [
    "# Add flow charts in JB\n",
    "In the '_config.yml' file, add \n",
    "```\n",
    "sphinx:\n",
    "  extra_extensions:\n",
    "    - sphinxcontrib.mermaid\n",
    "    - sphinxcontrib.wavedrom\n",
    "```"
   ]
  }
 ],
 "metadata": {
  "jupytext": {
   "formats": "md:myst",
   "text_representation": {
    "extension": ".md",
    "format_name": "myst",
    "format_version": 0.13,
    "jupytext_version": "1.13.8"
   }
  },
  "kernelspec": {
   "display_name": "Python 3 (ipykernel)",
   "language": "python",
   "name": "python3"
  },
  "source_map": [
   13
  ]
 },
 "nbformat": 4,
 "nbformat_minor": 5
}