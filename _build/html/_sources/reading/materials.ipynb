{
 "cells": [
  {
   "cell_type": "markdown",
   "id": "2230166e",
   "metadata": {},
   "source": [
    "# Books, Papers, and Online Mterials\n",
    "You can download the ebooks from our library. \n",
    "## EM Methods\n",
    "- FDTD\n",
    "    - **`Slides`** [A introduction to Meep and FDTD](http://ab-initio.mit.edu/~ardavan/stuff/IEEE_Photonics_Society_SCV3.pdf)\n",
    "    - **`Books`** [Introduction to the finite-difference time-domain (FDTD) method for electromagnetics](https://ieeexplore.ieee.org/document/6812520)\n",
    "    - **`Book`** [Advances in FDTD Computational Electrodynamics: Photonics and Nanotechnology](http://ieeexplore.ieee.org/document/9100982)\n",
    "    - **`software`** [Meep](https://meep.readthedocs.io/): electromagnetics simulation using FDTD. Python interface. **MPI**  parallelism, **Bloch** boundary, **GDSII** support \n",
    "    - **`software`** [gprMax](https://www.gprmax.com/): electromagnetics simulation using FDTD. Python interface. **GPU**, but currently less supports for photonics such as periodic boundary conditions  \n",
    "- Anaytical Methods\n",
    "   - Mie solution\n",
    "     -**`Book`** [Absorption and scattering of light by small particles](https://onlinelibrary.wiley.com/doi/book/10.1002/9783527618156)\n",
    "     -**`Article`**[The Extension of Mie Theory to Multiple Spheres](https://onlinelibrary.wiley.com/doi/book/10.1002/9783527618156)\n",
    "\n",
    "## Photonic Crystals\n",
    "- **`Tutorial`** [Five lectures of photonic crystals by Steven G. Johnson](http://ab-initio.mit.edu/photons/tutorial/)\n",
    "- **`Book`** [Photonic Crystals: Molding the Flow of Light (second edition)](http://ab-initio.mit.edu/book/photonic-crystals-book.pdf) \n",
    "\n",
    "## Plasmonics \n",
    "- **`Book`** [Principles of Nano-Optics](https://www.cambridge.org/core/books/principles-of-nanooptics/E884E5F4AA76DF179A1ECFDF77436452)\n",
    "- **`Book`** [Nano and Quantum Optics: An Introduction to Basic Principles and Theory](https://link.springer.com/book/10.1007/978-3-030-30504-8)\n",
    "- **`pdf`** [物理雙月刊：金屬表面電漿簡介](https://jhihsheng.github.io/Ref/pdf/physics_bimonth_intro_SPP.pdf)\n",
    "- **`pdf`** [物理雙月刊：表面電漿理論與模擬](https://jhihsheng.github.io/Ref/pdf/physics_bimonth_Theory_Simulation_SPP.pdf)\n",
    "- **`Slides`** [Nanoplasmonics: Citius, Minimius, Fortius! (Faster, Smaller, Stronger!)](http://physics.gsu.edu/stockman/data/Smaller_Stronger_Faster_40_min.pdf)\n",
    "- **`Slides`** [Nanoplasmonics Fundamentals and Applications](http://physics.gsu.edu/stockman/data/Nanoplasmonics_Fundamentals_and_Applications_Erice_2017_200_min.pdf)\n",
    "- **`Article`** [用光控制光：以奈米材料大幅增強光學非線性](https://pb.ps-taiwan.org/modules/news/article.php?storyid=645)\n",
    "- **`Article`** [奈米光學饗宴─散射式近場光學顯微鏡 ](https://pb.ps-taiwan.org/modules/news/article.php?storyid=634)"
   ]
  }
 ],
 "metadata": {
  "jupytext": {
   "formats": "md:myst",
   "text_representation": {
    "extension": ".md",
    "format_name": "myst",
    "format_version": 0.13,
    "jupytext_version": "1.13.8"
   }
  },
  "kernelspec": {
   "display_name": "Python 3 (ipykernel)",
   "language": "python",
   "name": "python3"
  },
  "source_map": [
   13
  ]
 },
 "nbformat": 4,
 "nbformat_minor": 5
}